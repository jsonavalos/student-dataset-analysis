{
 "cells": [
  {
   "cell_type": "markdown",
   "id": "b94b87f0-0bc6-4c88-afb4-ff708ab0f923",
   "metadata": {},
   "source": [
    "# Student Perfomarce Analysis"
   ]
  },
  {
   "cell_type": "markdown",
   "id": "6e137fca-a255-477f-b83d-f59d28e7377a",
   "metadata": {},
   "source": [
    "### Data Pre-processing"
   ]
  },
  {
   "cell_type": "code",
   "execution_count": 1,
   "id": "6de8e3b8-2852-4d5a-aa4a-3359ede64400",
   "metadata": {},
   "outputs": [],
   "source": [
    "# Imports\n",
    "import pandas as pd\n",
    "import numpy as np\n",
    "import seaborn as sns\n",
    "import matplotlib.pyplot as plt\n",
    "from sklearn.preprocessing import StandardScaler"
   ]
  },
  {
   "cell_type": "code",
   "execution_count": 2,
   "id": "a7a67978-43f2-4dbd-86f7-e8f9a08f4ce7",
   "metadata": {},
   "outputs": [
    {
     "data": {
      "text/html": [
       "<div>\n",
       "<style scoped>\n",
       "    .dataframe tbody tr th:only-of-type {\n",
       "        vertical-align: middle;\n",
       "    }\n",
       "\n",
       "    .dataframe tbody tr th {\n",
       "        vertical-align: top;\n",
       "    }\n",
       "\n",
       "    .dataframe thead th {\n",
       "        text-align: right;\n",
       "    }\n",
       "</style>\n",
       "<table border=\"1\" class=\"dataframe\">\n",
       "  <thead>\n",
       "    <tr style=\"text-align: right;\">\n",
       "      <th></th>\n",
       "      <th>0</th>\n",
       "      <th>1</th>\n",
       "      <th>2</th>\n",
       "    </tr>\n",
       "  </thead>\n",
       "  <tbody>\n",
       "    <tr>\n",
       "      <th>roll_no</th>\n",
       "      <td>std-01</td>\n",
       "      <td>std-02</td>\n",
       "      <td>std-03</td>\n",
       "    </tr>\n",
       "    <tr>\n",
       "      <th>gender</th>\n",
       "      <td>male</td>\n",
       "      <td>male</td>\n",
       "      <td>male</td>\n",
       "    </tr>\n",
       "    <tr>\n",
       "      <th>race_ethnicity</th>\n",
       "      <td>group D</td>\n",
       "      <td>group B</td>\n",
       "      <td>group C</td>\n",
       "    </tr>\n",
       "    <tr>\n",
       "      <th>parental_level_of_education</th>\n",
       "      <td>some college</td>\n",
       "      <td>high school</td>\n",
       "      <td>master's degree</td>\n",
       "    </tr>\n",
       "    <tr>\n",
       "      <th>lunch</th>\n",
       "      <td>1.0</td>\n",
       "      <td>1.0</td>\n",
       "      <td>1.0</td>\n",
       "    </tr>\n",
       "    <tr>\n",
       "      <th>test_preparation_course</th>\n",
       "      <td>1.0</td>\n",
       "      <td>0.0</td>\n",
       "      <td>0.0</td>\n",
       "    </tr>\n",
       "    <tr>\n",
       "      <th>math_score</th>\n",
       "      <td>89</td>\n",
       "      <td>65</td>\n",
       "      <td>10</td>\n",
       "    </tr>\n",
       "    <tr>\n",
       "      <th>reading_score</th>\n",
       "      <td>38.0</td>\n",
       "      <td>100.0</td>\n",
       "      <td>99.0</td>\n",
       "    </tr>\n",
       "    <tr>\n",
       "      <th>writing_score</th>\n",
       "      <td>85.0</td>\n",
       "      <td>67.0</td>\n",
       "      <td>97.0</td>\n",
       "    </tr>\n",
       "    <tr>\n",
       "      <th>science_score</th>\n",
       "      <td>26.0</td>\n",
       "      <td>96.0</td>\n",
       "      <td>58.0</td>\n",
       "    </tr>\n",
       "    <tr>\n",
       "      <th>total_score</th>\n",
       "      <td>238.0</td>\n",
       "      <td>328.0</td>\n",
       "      <td>264.0</td>\n",
       "    </tr>\n",
       "    <tr>\n",
       "      <th>grade</th>\n",
       "      <td>C</td>\n",
       "      <td>A</td>\n",
       "      <td>B</td>\n",
       "    </tr>\n",
       "  </tbody>\n",
       "</table>\n",
       "</div>"
      ],
      "text/plain": [
       "                                        0            1                2\n",
       "roll_no                            std-01       std-02           std-03\n",
       "gender                               male         male             male\n",
       "race_ethnicity                    group D      group B          group C\n",
       "parental_level_of_education  some college  high school  master's degree\n",
       "lunch                                 1.0          1.0              1.0\n",
       "test_preparation_course               1.0          0.0              0.0\n",
       "math_score                             89           65               10\n",
       "reading_score                        38.0        100.0             99.0\n",
       "writing_score                        85.0         67.0             97.0\n",
       "science_score                        26.0         96.0             58.0\n",
       "total_score                         238.0        328.0            264.0\n",
       "grade                                   C            A                B"
      ]
     },
     "execution_count": 2,
     "metadata": {},
     "output_type": "execute_result"
    }
   ],
   "source": [
    "# Load data\n",
    "student_data = pd.read_csv('Student_performance_10k.csv')\n",
    "student_data.head(3).T"
   ]
  },
  {
   "cell_type": "code",
   "execution_count": 3,
   "id": "51d9a7b7-d74e-453a-8b48-2c171d9b3da1",
   "metadata": {},
   "outputs": [
    {
     "name": "stdout",
     "output_type": "stream",
     "text": [
      "<class 'pandas.core.frame.DataFrame'>\n",
      "RangeIndex: 10000 entries, 0 to 9999\n",
      "Data columns (total 12 columns):\n",
      " #   Column                       Non-Null Count  Dtype  \n",
      "---  ------                       --------------  -----  \n",
      " 0   roll_no                      9999 non-null   object \n",
      " 1   gender                       9982 non-null   object \n",
      " 2   race_ethnicity               9977 non-null   object \n",
      " 3   parental_level_of_education  9978 non-null   object \n",
      " 4   lunch                        9976 non-null   float64\n",
      " 5   test_preparation_course      9977 non-null   float64\n",
      " 6   math_score                   9976 non-null   object \n",
      " 7   reading_score                9975 non-null   float64\n",
      " 8   writing_score                9976 non-null   float64\n",
      " 9   science_score                9977 non-null   float64\n",
      " 10  total_score                  9981 non-null   float64\n",
      " 11  grade                        9997 non-null   object \n",
      "dtypes: float64(6), object(6)\n",
      "memory usage: 937.6+ KB\n"
     ]
    }
   ],
   "source": [
    "student_data.info()"
   ]
  },
  {
   "cell_type": "code",
   "execution_count": 4,
   "id": "8b209ac7-1768-4316-95b3-6e5cb26b4092",
   "metadata": {},
   "outputs": [
    {
     "data": {
      "text/plain": [
       "roll_no                         1\n",
       "gender                         18\n",
       "race_ethnicity                 23\n",
       "parental_level_of_education    22\n",
       "lunch                          24\n",
       "test_preparation_course        23\n",
       "math_score                     24\n",
       "reading_score                  25\n",
       "writing_score                  24\n",
       "science_score                  23\n",
       "total_score                    19\n",
       "grade                           3\n",
       "dtype: int64"
      ]
     },
     "execution_count": 4,
     "metadata": {},
     "output_type": "execute_result"
    }
   ],
   "source": [
    "# Obtain number of null values per column\n",
    "student_data.isna().sum()"
   ]
  },
  {
   "cell_type": "code",
   "execution_count": 5,
   "id": "dd1449db-c98b-4d88-aad4-362eb3069008",
   "metadata": {},
   "outputs": [
    {
     "name": "stdout",
     "output_type": "stream",
     "text": [
      "Percentage of dropped data: 2.13%\n"
     ]
    },
    {
     "data": {
      "text/plain": [
       "roll_no                        0\n",
       "gender                         0\n",
       "race_ethnicity                 0\n",
       "parental_level_of_education    0\n",
       "lunch                          0\n",
       "test_preparation_course        0\n",
       "math_score                     0\n",
       "reading_score                  0\n",
       "writing_score                  0\n",
       "science_score                  0\n",
       "total_score                    0\n",
       "grade                          0\n",
       "dtype: int64"
      ]
     },
     "execution_count": 5,
     "metadata": {},
     "output_type": "execute_result"
    }
   ],
   "source": [
    "# Drop null values and calculate percentage of dropped data\n",
    "pre_drop_num_rows = student_data.shape[0]\n",
    "student_data = student_data.dropna()\n",
    "post_drop_num_rows = student_data.shape[0]\n",
    "percentage_dropped = ((pre_drop_num_rows - post_drop_num_rows)/pre_drop_num_rows)*100\n",
    "\n",
    "print(f'Percentage of dropped data: {percentage_dropped}%')\n",
    "\n",
    "# Confirm non-null dataset\n",
    "student_data.isna().sum()"
   ]
  },
  {
   "cell_type": "code",
   "execution_count": 6,
   "id": "92ae5954-3fe9-4958-91d1-4f4551e3a854",
   "metadata": {},
   "outputs": [
    {
     "name": "stdout",
     "output_type": "stream",
     "text": [
      "Gender values from ['male' 'Boy' '\\\\tmale' 'female' 'Girl'] -> ['male' 'female']\n",
      "Race_Ethnicity values from ['group D' 'group B' 'group C' 'group E' 'group A' 'C' 'D' 'group C\\\\n'\n",
      " 'B' 'E' 'A'] -> ['group D' 'group B' 'group C' 'group E' 'group A']\n"
     ]
    }
   ],
   "source": [
    "# Handle data consistency\n",
    "\n",
    "# Convert lunch and test_preparation_course to categories\n",
    "student_data['lunch'] = student_data['lunch'].astype('object')\n",
    "student_data['lunch'] = student_data['lunch'].replace({0: 'No', 1: 'Yes'})\n",
    "\n",
    "student_data['lunch'] = student_data['lunch'].astype('object')\n",
    "student_data['test_preparation_course'] = student_data['test_preparation_course'].replace({0: 'No', 1: 'Yes'})\n",
    "\n",
    "# math-score: dtype -> float\n",
    "student_data['math_score'] = student_data['math_score'].replace('\\\\t41', '41')\n",
    "student_data['math_score'] = student_data['math_score'].astype(float) \n",
    "\n",
    "# gender:  Inconsist labeling\n",
    "pre_replacement = student_data['gender'].unique()\n",
    "student_data['gender'] = student_data['gender'].replace(['Boy', '\\\\tmale'], 'male')\n",
    "student_data['gender'] = student_data['gender'].replace('Girl', 'female')\n",
    "post_replacement = student_data['gender'].unique()\n",
    "print(f'Gender values from {pre_replacement} -> {post_replacement}')\n",
    "\n",
    "# race_ethnicity: Inconsist labeling\n",
    "pre_replacement = student_data['race_ethnicity'].unique()\n",
    "student_data['race_ethnicity'] = student_data['race_ethnicity'].replace({'A': 'group A', 'B':'group B', 'D':'group D', 'E':'group E'})\n",
    "student_data['race_ethnicity'] = student_data['race_ethnicity'].replace(['C', 'group C\\\\n'], 'group C')\n",
    "post_replacement = student_data['race_ethnicity'].unique()\n",
    "print(f'Race_Ethnicity values from {pre_replacement} -> {post_replacement}')"
   ]
  },
  {
   "cell_type": "markdown",
   "id": "490ea9cc-9a03-4ece-8d4c-dd421a30e5cb",
   "metadata": {},
   "source": [
    "### Visualization and Measures of Centrality"
   ]
  },
  {
   "cell_type": "code",
   "execution_count": 11,
   "id": "733a47e4-b807-4ce3-ab80-cf98901adfa5",
   "metadata": {},
   "outputs": [],
   "source": [
    "# Obtain numeric data\n",
    "numeric_df = student_data.select_dtypes(include='number')\n",
    "\n",
    "# Obtain categorical data, exclude identifier\n",
    "category_df = student_data.select_dtypes(include='object')\n",
    "category_df.drop('roll_no', axis=1, inplace= True)"
   ]
  },
  {
   "cell_type": "code",
   "execution_count": 10,
   "id": "f45d67f3-5b8c-4cf9-9569-90c010eb451c",
   "metadata": {},
   "outputs": [
    {
     "data": {
      "image/png": "[encoded data removed]",
      "text/plain": [
       "<Figure size 640x480 with 1 Axes>"
      ]
     },
     "metadata": {},
     "output_type": "display_data"
    }
   ],
   "source": [
    "# Normalize numeric dataset\n",
    "scaler = StandardScaler()\n",
    "standardized_data = scaler.fit_transform(numeric_df)\n",
    "\n",
    "plt.boxplot(standardized_data)\n",
    "plt.show()"
   ]
  },
  {
   "cell_type": "code",
   "execution_count": 13,
   "id": "00204090-4fe0-4758-973b-20fd119b9185",
   "metadata": {},
   "outputs": [
    {
     "data": {
      "image/png": "[encoded data removed]",
      "text/plain": [
       "<Figure size 640x480 with 1 Axes>"
      ]
     },
     "metadata": {},
     "output_type": "display_data"
    }
   ],
   "source": [
    "# Group by the 'Month' and Sub-group by Revenue\n",
    "grouped_data = student_data.groupby(['gender'])['grade'].value_counts().unstack()\n",
    "grouped_df = grouped_data.reset_index() # Converts result to DF\n",
    "\n",
    "grouped_df.plot(x='gender', kind='bar')\n",
    "plt.xlabel('Gender')\n",
    "plt.ylabel('Counts')\n",
    "plt.show()"
   ]
  },
  {
   "cell_type": "code",
   "execution_count": null,
   "id": "a832c4d6-c5b7-4a9f-a7a4-36f6fb052c9a",
   "metadata": {},
   "outputs": [],
   "source": [
    "for col_name in student_data.columns:\n",
    "    print(col_name, student_data[col_name].unique())"
   ]
  },
  {
   "cell_type": "code",
   "execution_count": null,
   "id": "a1749128-c8ff-43ea-a5a4-6ae8d9a51b7b",
   "metadata": {},
   "outputs": [],
   "source": []
  }
 ],
 "metadata": {
  "kernelspec": {
   "display_name": "Python 3 (ipykernel)",
   "language": "python",
   "name": "python3"
  },
  "language_info": {
   "codemirror_mode": {
    "name": "ipython",
    "version": 3
   },
   "file_extension": ".py",
   "mimetype": "text/x-python",
   "name": "python",
   "nbconvert_exporter": "python",
   "pygments_lexer": "ipython3",
   "version": "3.13.0"
  }
 },
 "nbformat": 4,
 "nbformat_minor": 5
}
